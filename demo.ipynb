{
 "cells": [
  {
   "cell_type": "code",
   "execution_count": 7,
   "metadata": {},
   "outputs": [],
   "source": [
    "\n",
    "import jax\n",
    "jax.config.update('jax_platforms', 'cpu')\n",
    "import bmi\n",
    "from src.minde.minde_cond import Minde_c\n",
    "from pytorch_lightning.loggers import TensorBoardLogger\n",
    "import pytorch_lightning as pl\n",
    "from scripts.helper import get_data_loader, get_samples\n",
    "from argparse import Namespace\n"
   ]
  },
  {
   "cell_type": "code",
   "execution_count": 8,
   "metadata": {},
   "outputs": [],
   "source": [
    "#bmi.benchmark.BENCHMARK_TASKS\n",
    "name_task = \"1v1-normal-0.75\"\n",
    "task = bmi.benchmark.BENCHMARK_TASKS[name_task]"
   ]
  },
  {
   "cell_type": "code",
   "execution_count": 9,
   "metadata": {},
   "outputs": [
    {
     "name": "stdout",
     "output_type": "stream",
     "text": [
      "[1.]\n"
     ]
    }
   ],
   "source": [
    "args = Namespace(preprocessing=\"rescale\", Train_Size=100000,\n",
    "                 Test_Size = 10000,\n",
    "                 seed = 42,\n",
    "                 num_epoch = 100,\n",
    "                 batch_size=\"256\",lr=1e-2 ,debias_train = True )\n",
    "\n",
    "train_l,test_l = get_data_loader(args,task)\n"
   ]
  },
  {
   "cell_type": "code",
   "execution_count": 10,
   "metadata": {},
   "outputs": [
    {
     "name": "stderr",
     "output_type": "stream",
     "text": [
      "/usr/lib/python3.9/multiprocessing/popen_fork.py:66: RuntimeWarning: os.fork() was called. os.fork() is incompatible with multithreaded code, and JAX is multithreaded, so this will likely lead to a deadlock.\n",
      "  self.pid = os.fork()\n",
      "/usr/lib/python3.9/multiprocessing/popen_fork.py:66: RuntimeWarning: os.fork() was called. os.fork() is incompatible with multithreaded code, and JAX is multithreaded, so this will likely lead to a deadlock.\n",
      "  self.pid = os.fork()\n",
      "GPU available: True (cuda), used: True\n",
      "TPU available: False, using: 0 TPU cores\n",
      "IPU available: False, using: 0 IPUs\n",
      "HPU available: False, using: 0 HPUs\n",
      "Missing logger folder: runs/demo/mi_Bivariate normal 1 × 1\n",
      "LOCAL_RANK: 0 - CUDA_VISIBLE_DEVICES: [0,1]\n",
      "\n",
      "  | Name         | Type    | Params\n",
      "-----------------------------------------\n",
      "0 | score        | UnetMLP | 55.4 K\n",
      "1 | model_ema    | EMA     | 55.4 K\n",
      "  | other params | n/a     | 1     \n",
      "-----------------------------------------\n",
      "110 K     Trainable params\n",
      "1         Non-trainable params\n",
      "110 K     Total params\n",
      "0.443     Total estimated model params size (MB)\n"
     ]
    },
    {
     "data": {
      "application/vnd.jupyter.widget-view+json": {
       "model_id": "97adc72e1f69435f9d3e1a83ebcec0f2",
       "version_major": 2,
       "version_minor": 0
      },
      "text/plain": [
       "Sanity Checking: |          | 0/? [00:00<?, ?it/s]"
      ]
     },
     "metadata": {},
     "output_type": "display_data"
    },
    {
     "data": {
      "application/vnd.jupyter.widget-view+json": {
       "model_id": "8ee24dd96791447a9b680c65a7cf2bb5",
       "version_major": 2,
       "version_minor": 0
      },
      "text/plain": [
       "Training: |          | 0/? [00:00<?, ?it/s]"
      ]
     },
     "metadata": {},
     "output_type": "display_data"
    },
    {
     "data": {
      "application/vnd.jupyter.widget-view+json": {
       "model_id": "d9c4c45e98044bb48615725bba6c8536",
       "version_major": 2,
       "version_minor": 0
      },
      "text/plain": [
       "Validation: |          | 0/? [00:00<?, ?it/s]"
      ]
     },
     "metadata": {},
     "output_type": "display_data"
    },
    {
     "name": "stdout",
     "output_type": "stream",
     "text": [
      "Step :781 , GT:0.41333928659223396, MINDE_C :0.31856536865234375 , MINDE_C_(sigma=1) :0.3166765570640564    \n"
     ]
    },
    {
     "data": {
      "application/vnd.jupyter.widget-view+json": {
       "model_id": "1446e19524674215ac8b52fd75ccabda",
       "version_major": 2,
       "version_minor": 0
      },
      "text/plain": [
       "Validation: |          | 0/? [00:00<?, ?it/s]"
      ]
     },
     "metadata": {},
     "output_type": "display_data"
    },
    {
     "name": "stdout",
     "output_type": "stream",
     "text": [
      "Step :1562 , GT:0.41333928659223396, MINDE_C :0.3393089771270752 , MINDE_C_(sigma=1) :0.3367294669151306    \n"
     ]
    },
    {
     "data": {
      "application/vnd.jupyter.widget-view+json": {
       "model_id": "b2213914021f46dbb5fb2e5ef28c4934",
       "version_major": 2,
       "version_minor": 0
      },
      "text/plain": [
       "Validation: |          | 0/? [00:00<?, ?it/s]"
      ]
     },
     "metadata": {},
     "output_type": "display_data"
    },
    {
     "name": "stdout",
     "output_type": "stream",
     "text": [
      "Step :2343 , GT:0.41333928659223396, MINDE_C :0.35459381341934204 , MINDE_C_(sigma=1) :0.3344684839248657    \n"
     ]
    },
    {
     "data": {
      "application/vnd.jupyter.widget-view+json": {
       "model_id": "69e1f60b7451429497b9b1c2cf9a4c29",
       "version_major": 2,
       "version_minor": 0
      },
      "text/plain": [
       "Validation: |          | 0/? [00:00<?, ?it/s]"
      ]
     },
     "metadata": {},
     "output_type": "display_data"
    },
    {
     "name": "stdout",
     "output_type": "stream",
     "text": [
      "Step :3124 , GT:0.41333928659223396, MINDE_C :0.34804683923721313 , MINDE_C_(sigma=1) :0.32937291264533997    \n"
     ]
    },
    {
     "data": {
      "application/vnd.jupyter.widget-view+json": {
       "model_id": "c8616ff05a2f457ca72fdd31886d6188",
       "version_major": 2,
       "version_minor": 0
      },
      "text/plain": [
       "Validation: |          | 0/? [00:00<?, ?it/s]"
      ]
     },
     "metadata": {},
     "output_type": "display_data"
    },
    {
     "name": "stdout",
     "output_type": "stream",
     "text": [
      "Step :3905 , GT:0.41333928659223396, MINDE_C :0.3757268786430359 , MINDE_C_(sigma=1) :0.36937573552131653    \n"
     ]
    },
    {
     "data": {
      "application/vnd.jupyter.widget-view+json": {
       "model_id": "57303ecc55194faabf6cbd73549a72e0",
       "version_major": 2,
       "version_minor": 0
      },
      "text/plain": [
       "Validation: |          | 0/? [00:00<?, ?it/s]"
      ]
     },
     "metadata": {},
     "output_type": "display_data"
    },
    {
     "name": "stdout",
     "output_type": "stream",
     "text": [
      "Step :4686 , GT:0.41333928659223396, MINDE_C :0.3393673896789551 , MINDE_C_(sigma=1) :0.34822767972946167    \n"
     ]
    },
    {
     "data": {
      "application/vnd.jupyter.widget-view+json": {
       "model_id": "65b5281237334f11a58f6936ca864dbb",
       "version_major": 2,
       "version_minor": 0
      },
      "text/plain": [
       "Validation: |          | 0/? [00:00<?, ?it/s]"
      ]
     },
     "metadata": {},
     "output_type": "display_data"
    },
    {
     "name": "stdout",
     "output_type": "stream",
     "text": [
      "Step :5467 , GT:0.41333928659223396, MINDE_C :0.36049747467041016 , MINDE_C_(sigma=1) :0.3648384213447571    \n"
     ]
    },
    {
     "data": {
      "application/vnd.jupyter.widget-view+json": {
       "model_id": "183ffd9d1b394853be60f5deee7a89de",
       "version_major": 2,
       "version_minor": 0
      },
      "text/plain": [
       "Validation: |          | 0/? [00:00<?, ?it/s]"
      ]
     },
     "metadata": {},
     "output_type": "display_data"
    },
    {
     "name": "stdout",
     "output_type": "stream",
     "text": [
      "Step :6248 , GT:0.41333928659223396, MINDE_C :0.35414397716522217 , MINDE_C_(sigma=1) :0.3642837107181549    \n"
     ]
    },
    {
     "data": {
      "application/vnd.jupyter.widget-view+json": {
       "model_id": "ead6fc705eef48558e31cbd785cf141d",
       "version_major": 2,
       "version_minor": 0
      },
      "text/plain": [
       "Validation: |          | 0/? [00:00<?, ?it/s]"
      ]
     },
     "metadata": {},
     "output_type": "display_data"
    },
    {
     "name": "stdout",
     "output_type": "stream",
     "text": [
      "Step :7029 , GT:0.41333928659223396, MINDE_C :0.37018898129463196 , MINDE_C_(sigma=1) :0.3513583540916443    \n"
     ]
    },
    {
     "data": {
      "application/vnd.jupyter.widget-view+json": {
       "model_id": "8ce2ed56ead14c99aa4fe99ccf034039",
       "version_major": 2,
       "version_minor": 0
      },
      "text/plain": [
       "Validation: |          | 0/? [00:00<?, ?it/s]"
      ]
     },
     "metadata": {},
     "output_type": "display_data"
    },
    {
     "name": "stdout",
     "output_type": "stream",
     "text": [
      "Step :7810 , GT:0.41333928659223396, MINDE_C :0.37839630246162415 , MINDE_C_(sigma=1) :0.3534882366657257    \n"
     ]
    },
    {
     "data": {
      "application/vnd.jupyter.widget-view+json": {
       "model_id": "2f8eb8a9197f45cc9da2a9a4a8ec5a6d",
       "version_major": 2,
       "version_minor": 0
      },
      "text/plain": [
       "Validation: |          | 0/? [00:00<?, ?it/s]"
      ]
     },
     "metadata": {},
     "output_type": "display_data"
    },
    {
     "name": "stdout",
     "output_type": "stream",
     "text": [
      "Step :8591 , GT:0.41333928659223396, MINDE_C :0.38110411167144775 , MINDE_C_(sigma=1) :0.35188713669776917    \n"
     ]
    },
    {
     "data": {
      "application/vnd.jupyter.widget-view+json": {
       "model_id": "1fd81d58c6414d109475c78580af5a3e",
       "version_major": 2,
       "version_minor": 0
      },
      "text/plain": [
       "Validation: |          | 0/? [00:00<?, ?it/s]"
      ]
     },
     "metadata": {},
     "output_type": "display_data"
    },
    {
     "name": "stdout",
     "output_type": "stream",
     "text": [
      "Step :9372 , GT:0.41333928659223396, MINDE_C :0.3653510510921478 , MINDE_C_(sigma=1) :0.35513556003570557    \n"
     ]
    },
    {
     "data": {
      "application/vnd.jupyter.widget-view+json": {
       "model_id": "beb1cf1881624726a64f34fb39b5ea0c",
       "version_major": 2,
       "version_minor": 0
      },
      "text/plain": [
       "Validation: |          | 0/? [00:00<?, ?it/s]"
      ]
     },
     "metadata": {},
     "output_type": "display_data"
    },
    {
     "name": "stdout",
     "output_type": "stream",
     "text": [
      "Step :10153 , GT:0.41333928659223396, MINDE_C :0.3571505546569824 , MINDE_C_(sigma=1) :0.3753882348537445    \n"
     ]
    },
    {
     "data": {
      "application/vnd.jupyter.widget-view+json": {
       "model_id": "c441e96883434aec891b461329fc2815",
       "version_major": 2,
       "version_minor": 0
      },
      "text/plain": [
       "Validation: |          | 0/? [00:00<?, ?it/s]"
      ]
     },
     "metadata": {},
     "output_type": "display_data"
    },
    {
     "name": "stdout",
     "output_type": "stream",
     "text": [
      "Step :10934 , GT:0.41333928659223396, MINDE_C :0.3763563632965088 , MINDE_C_(sigma=1) :0.37908342480659485    \n"
     ]
    },
    {
     "data": {
      "application/vnd.jupyter.widget-view+json": {
       "model_id": "1923c907bdff49368d540761b6ee54cf",
       "version_major": 2,
       "version_minor": 0
      },
      "text/plain": [
       "Validation: |          | 0/? [00:00<?, ?it/s]"
      ]
     },
     "metadata": {},
     "output_type": "display_data"
    },
    {
     "name": "stdout",
     "output_type": "stream",
     "text": [
      "Step :11715 , GT:0.41333928659223396, MINDE_C :0.35710984468460083 , MINDE_C_(sigma=1) :0.3439556956291199    \n"
     ]
    },
    {
     "data": {
      "application/vnd.jupyter.widget-view+json": {
       "model_id": "c242d81291e446818e250af57bfe8194",
       "version_major": 2,
       "version_minor": 0
      },
      "text/plain": [
       "Validation: |          | 0/? [00:00<?, ?it/s]"
      ]
     },
     "metadata": {},
     "output_type": "display_data"
    },
    {
     "name": "stdout",
     "output_type": "stream",
     "text": [
      "Step :12496 , GT:0.41333928659223396, MINDE_C :0.35652077198028564 , MINDE_C_(sigma=1) :0.3860076665878296    \n"
     ]
    },
    {
     "data": {
      "application/vnd.jupyter.widget-view+json": {
       "model_id": "0971a68e45c04a73916893ddca51e0d6",
       "version_major": 2,
       "version_minor": 0
      },
      "text/plain": [
       "Validation: |          | 0/? [00:00<?, ?it/s]"
      ]
     },
     "metadata": {},
     "output_type": "display_data"
    },
    {
     "name": "stdout",
     "output_type": "stream",
     "text": [
      "Step :13277 , GT:0.41333928659223396, MINDE_C :0.3847278356552124 , MINDE_C_(sigma=1) :0.3699372708797455    \n"
     ]
    },
    {
     "data": {
      "application/vnd.jupyter.widget-view+json": {
       "model_id": "7c5006bb62fb48e989f61f70de459fa8",
       "version_major": 2,
       "version_minor": 0
      },
      "text/plain": [
       "Validation: |          | 0/? [00:00<?, ?it/s]"
      ]
     },
     "metadata": {},
     "output_type": "display_data"
    },
    {
     "name": "stdout",
     "output_type": "stream",
     "text": [
      "Step :14058 , GT:0.41333928659223396, MINDE_C :0.37690994143486023 , MINDE_C_(sigma=1) :0.3742363154888153    \n"
     ]
    },
    {
     "data": {
      "application/vnd.jupyter.widget-view+json": {
       "model_id": "554d1e2c5ad843f5a363941c8e31dc33",
       "version_major": 2,
       "version_minor": 0
      },
      "text/plain": [
       "Validation: |          | 0/? [00:00<?, ?it/s]"
      ]
     },
     "metadata": {},
     "output_type": "display_data"
    },
    {
     "name": "stdout",
     "output_type": "stream",
     "text": [
      "Step :14839 , GT:0.41333928659223396, MINDE_C :0.4066985547542572 , MINDE_C_(sigma=1) :0.388027548789978    \n"
     ]
    },
    {
     "data": {
      "application/vnd.jupyter.widget-view+json": {
       "model_id": "316966e570f549c1b690ba38030b0e25",
       "version_major": 2,
       "version_minor": 0
      },
      "text/plain": [
       "Validation: |          | 0/? [00:00<?, ?it/s]"
      ]
     },
     "metadata": {},
     "output_type": "display_data"
    },
    {
     "name": "stdout",
     "output_type": "stream",
     "text": [
      "Step :15620 , GT:0.41333928659223396, MINDE_C :0.38882651925086975 , MINDE_C_(sigma=1) :0.40167298913002014    \n"
     ]
    },
    {
     "data": {
      "application/vnd.jupyter.widget-view+json": {
       "model_id": "36647508e4fa4745b30e6d557423f56b",
       "version_major": 2,
       "version_minor": 0
      },
      "text/plain": [
       "Validation: |          | 0/? [00:00<?, ?it/s]"
      ]
     },
     "metadata": {},
     "output_type": "display_data"
    },
    {
     "name": "stdout",
     "output_type": "stream",
     "text": [
      "Step :16401 , GT:0.41333928659223396, MINDE_C :0.383449524641037 , MINDE_C_(sigma=1) :0.388668417930603    \n"
     ]
    },
    {
     "data": {
      "application/vnd.jupyter.widget-view+json": {
       "model_id": "961cc8c455f0454980889bb51903a808",
       "version_major": 2,
       "version_minor": 0
      },
      "text/plain": [
       "Validation: |          | 0/? [00:00<?, ?it/s]"
      ]
     },
     "metadata": {},
     "output_type": "display_data"
    },
    {
     "name": "stdout",
     "output_type": "stream",
     "text": [
      "Step :17182 , GT:0.41333928659223396, MINDE_C :0.35874688625335693 , MINDE_C_(sigma=1) :0.3647010326385498    \n"
     ]
    },
    {
     "data": {
      "application/vnd.jupyter.widget-view+json": {
       "model_id": "548ac6a38b0a4f7f8bcf1a54d3a214a3",
       "version_major": 2,
       "version_minor": 0
      },
      "text/plain": [
       "Validation: |          | 0/? [00:00<?, ?it/s]"
      ]
     },
     "metadata": {},
     "output_type": "display_data"
    },
    {
     "name": "stdout",
     "output_type": "stream",
     "text": [
      "Step :17963 , GT:0.41333928659223396, MINDE_C :0.3793661892414093 , MINDE_C_(sigma=1) :0.35943520069122314    \n"
     ]
    },
    {
     "data": {
      "application/vnd.jupyter.widget-view+json": {
       "model_id": "40eb7c14dad649009b0310846035ca5b",
       "version_major": 2,
       "version_minor": 0
      },
      "text/plain": [
       "Validation: |          | 0/? [00:00<?, ?it/s]"
      ]
     },
     "metadata": {},
     "output_type": "display_data"
    },
    {
     "name": "stdout",
     "output_type": "stream",
     "text": [
      "Step :18744 , GT:0.41333928659223396, MINDE_C :0.3932590186595917 , MINDE_C_(sigma=1) :0.37313398718833923    \n"
     ]
    },
    {
     "data": {
      "application/vnd.jupyter.widget-view+json": {
       "model_id": "5cd50719271e4e5488a90893a7e36806",
       "version_major": 2,
       "version_minor": 0
      },
      "text/plain": [
       "Validation: |          | 0/? [00:00<?, ?it/s]"
      ]
     },
     "metadata": {},
     "output_type": "display_data"
    },
    {
     "name": "stdout",
     "output_type": "stream",
     "text": [
      "Step :19525 , GT:0.41333928659223396, MINDE_C :0.3928064703941345 , MINDE_C_(sigma=1) :0.3845025599002838    \n"
     ]
    },
    {
     "data": {
      "application/vnd.jupyter.widget-view+json": {
       "model_id": "22e8ed383b9445d993c8ac817980228a",
       "version_major": 2,
       "version_minor": 0
      },
      "text/plain": [
       "Validation: |          | 0/? [00:00<?, ?it/s]"
      ]
     },
     "metadata": {},
     "output_type": "display_data"
    },
    {
     "name": "stdout",
     "output_type": "stream",
     "text": [
      "Step :20306 , GT:0.41333928659223396, MINDE_C :0.37913936376571655 , MINDE_C_(sigma=1) :0.36992189288139343    \n"
     ]
    },
    {
     "data": {
      "application/vnd.jupyter.widget-view+json": {
       "model_id": "f3b8df10c4c64cf1b66291ec11f05ce3",
       "version_major": 2,
       "version_minor": 0
      },
      "text/plain": [
       "Validation: |          | 0/? [00:00<?, ?it/s]"
      ]
     },
     "metadata": {},
     "output_type": "display_data"
    },
    {
     "name": "stdout",
     "output_type": "stream",
     "text": [
      "Step :21087 , GT:0.41333928659223396, MINDE_C :0.3829071819782257 , MINDE_C_(sigma=1) :0.3799976706504822    \n"
     ]
    },
    {
     "data": {
      "application/vnd.jupyter.widget-view+json": {
       "model_id": "4ce20b39ad92444891507d492e96ddae",
       "version_major": 2,
       "version_minor": 0
      },
      "text/plain": [
       "Validation: |          | 0/? [00:00<?, ?it/s]"
      ]
     },
     "metadata": {},
     "output_type": "display_data"
    },
    {
     "name": "stdout",
     "output_type": "stream",
     "text": [
      "Step :21868 , GT:0.41333928659223396, MINDE_C :0.38444554805755615 , MINDE_C_(sigma=1) :0.39940145611763    \n"
     ]
    },
    {
     "data": {
      "application/vnd.jupyter.widget-view+json": {
       "model_id": "48c77be33d0641d695ad65ce4270a246",
       "version_major": 2,
       "version_minor": 0
      },
      "text/plain": [
       "Validation: |          | 0/? [00:00<?, ?it/s]"
      ]
     },
     "metadata": {},
     "output_type": "display_data"
    },
    {
     "name": "stdout",
     "output_type": "stream",
     "text": [
      "Step :22649 , GT:0.41333928659223396, MINDE_C :0.42066243290901184 , MINDE_C_(sigma=1) :0.406096488237381    \n"
     ]
    },
    {
     "data": {
      "application/vnd.jupyter.widget-view+json": {
       "model_id": "5bfd943ceb1f495592a434217faa796c",
       "version_major": 2,
       "version_minor": 0
      },
      "text/plain": [
       "Validation: |          | 0/? [00:00<?, ?it/s]"
      ]
     },
     "metadata": {},
     "output_type": "display_data"
    },
    {
     "name": "stdout",
     "output_type": "stream",
     "text": [
      "Step :23430 , GT:0.41333928659223396, MINDE_C :0.390328586101532 , MINDE_C_(sigma=1) :0.40289121866226196    \n"
     ]
    },
    {
     "data": {
      "application/vnd.jupyter.widget-view+json": {
       "model_id": "e93f1a9d54994bb7a7d39352200062bf",
       "version_major": 2,
       "version_minor": 0
      },
      "text/plain": [
       "Validation: |          | 0/? [00:00<?, ?it/s]"
      ]
     },
     "metadata": {},
     "output_type": "display_data"
    },
    {
     "name": "stdout",
     "output_type": "stream",
     "text": [
      "Step :24211 , GT:0.41333928659223396, MINDE_C :0.39597657322883606 , MINDE_C_(sigma=1) :0.3863348960876465    \n"
     ]
    },
    {
     "data": {
      "application/vnd.jupyter.widget-view+json": {
       "model_id": "5a345c60633c4c2ea998eefc0fe1f392",
       "version_major": 2,
       "version_minor": 0
      },
      "text/plain": [
       "Validation: |          | 0/? [00:00<?, ?it/s]"
      ]
     },
     "metadata": {},
     "output_type": "display_data"
    },
    {
     "name": "stdout",
     "output_type": "stream",
     "text": [
      "Step :24992 , GT:0.41333928659223396, MINDE_C :0.38550862669944763 , MINDE_C_(sigma=1) :0.38373833894729614    \n"
     ]
    },
    {
     "data": {
      "application/vnd.jupyter.widget-view+json": {
       "model_id": "e73c0019d4b84c72be320f0925a1990e",
       "version_major": 2,
       "version_minor": 0
      },
      "text/plain": [
       "Validation: |          | 0/? [00:00<?, ?it/s]"
      ]
     },
     "metadata": {},
     "output_type": "display_data"
    },
    {
     "name": "stdout",
     "output_type": "stream",
     "text": [
      "Step :25773 , GT:0.41333928659223396, MINDE_C :0.37343814969062805 , MINDE_C_(sigma=1) :0.36869439482688904    \n"
     ]
    },
    {
     "data": {
      "application/vnd.jupyter.widget-view+json": {
       "model_id": "cda53a0b550c47139293f8c6d2d4b0e3",
       "version_major": 2,
       "version_minor": 0
      },
      "text/plain": [
       "Validation: |          | 0/? [00:00<?, ?it/s]"
      ]
     },
     "metadata": {},
     "output_type": "display_data"
    },
    {
     "name": "stdout",
     "output_type": "stream",
     "text": [
      "Step :26554 , GT:0.41333928659223396, MINDE_C :0.39220860600471497 , MINDE_C_(sigma=1) :0.3805462419986725    \n"
     ]
    },
    {
     "data": {
      "application/vnd.jupyter.widget-view+json": {
       "model_id": "b595dce2ae544540a31c19ddc08a88dd",
       "version_major": 2,
       "version_minor": 0
      },
      "text/plain": [
       "Validation: |          | 0/? [00:00<?, ?it/s]"
      ]
     },
     "metadata": {},
     "output_type": "display_data"
    },
    {
     "name": "stdout",
     "output_type": "stream",
     "text": [
      "Step :27335 , GT:0.41333928659223396, MINDE_C :0.4022997319698334 , MINDE_C_(sigma=1) :0.3980768024921417    \n"
     ]
    },
    {
     "data": {
      "application/vnd.jupyter.widget-view+json": {
       "model_id": "7a943f026d5a4a03ba6f2f70f62cf8b5",
       "version_major": 2,
       "version_minor": 0
      },
      "text/plain": [
       "Validation: |          | 0/? [00:00<?, ?it/s]"
      ]
     },
     "metadata": {},
     "output_type": "display_data"
    },
    {
     "name": "stdout",
     "output_type": "stream",
     "text": [
      "Step :28116 , GT:0.41333928659223396, MINDE_C :0.37844982743263245 , MINDE_C_(sigma=1) :0.38802075386047363    \n"
     ]
    },
    {
     "data": {
      "application/vnd.jupyter.widget-view+json": {
       "model_id": "c452caf4f8b4499fbf5666f599372818",
       "version_major": 2,
       "version_minor": 0
      },
      "text/plain": [
       "Validation: |          | 0/? [00:00<?, ?it/s]"
      ]
     },
     "metadata": {},
     "output_type": "display_data"
    },
    {
     "name": "stdout",
     "output_type": "stream",
     "text": [
      "Step :28897 , GT:0.41333928659223396, MINDE_C :0.3755151033401489 , MINDE_C_(sigma=1) :0.3921404182910919    \n"
     ]
    },
    {
     "data": {
      "application/vnd.jupyter.widget-view+json": {
       "model_id": "3d9831b200b547e9afba1ad0c316e079",
       "version_major": 2,
       "version_minor": 0
      },
      "text/plain": [
       "Validation: |          | 0/? [00:00<?, ?it/s]"
      ]
     },
     "metadata": {},
     "output_type": "display_data"
    },
    {
     "name": "stdout",
     "output_type": "stream",
     "text": [
      "Step :29678 , GT:0.41333928659223396, MINDE_C :0.4087800085544586 , MINDE_C_(sigma=1) :0.39094188809394836    \n"
     ]
    },
    {
     "data": {
      "application/vnd.jupyter.widget-view+json": {
       "model_id": "ab9f828f80ae461c89eb0135d4e56c17",
       "version_major": 2,
       "version_minor": 0
      },
      "text/plain": [
       "Validation: |          | 0/? [00:00<?, ?it/s]"
      ]
     },
     "metadata": {},
     "output_type": "display_data"
    },
    {
     "name": "stdout",
     "output_type": "stream",
     "text": [
      "Step :30459 , GT:0.41333928659223396, MINDE_C :0.38034120202064514 , MINDE_C_(sigma=1) :0.3857043385505676    \n"
     ]
    },
    {
     "data": {
      "application/vnd.jupyter.widget-view+json": {
       "model_id": "f1218ebae5c94b89aa27f092c14a73b2",
       "version_major": 2,
       "version_minor": 0
      },
      "text/plain": [
       "Validation: |          | 0/? [00:00<?, ?it/s]"
      ]
     },
     "metadata": {},
     "output_type": "display_data"
    },
    {
     "name": "stdout",
     "output_type": "stream",
     "text": [
      "Step :31240 , GT:0.41333928659223396, MINDE_C :0.4075004756450653 , MINDE_C_(sigma=1) :0.3944183588027954    \n"
     ]
    },
    {
     "data": {
      "application/vnd.jupyter.widget-view+json": {
       "model_id": "f83d0a859ffe428993dce121d3947d9d",
       "version_major": 2,
       "version_minor": 0
      },
      "text/plain": [
       "Validation: |          | 0/? [00:00<?, ?it/s]"
      ]
     },
     "metadata": {},
     "output_type": "display_data"
    },
    {
     "name": "stdout",
     "output_type": "stream",
     "text": [
      "Step :32021 , GT:0.41333928659223396, MINDE_C :0.3787574768066406 , MINDE_C_(sigma=1) :0.3726198673248291    \n"
     ]
    },
    {
     "data": {
      "application/vnd.jupyter.widget-view+json": {
       "model_id": "ea0819133121441aabe1bbec64455cd7",
       "version_major": 2,
       "version_minor": 0
      },
      "text/plain": [
       "Validation: |          | 0/? [00:00<?, ?it/s]"
      ]
     },
     "metadata": {},
     "output_type": "display_data"
    },
    {
     "name": "stdout",
     "output_type": "stream",
     "text": [
      "Step :32802 , GT:0.41333928659223396, MINDE_C :0.39050939679145813 , MINDE_C_(sigma=1) :0.39062631130218506    \n"
     ]
    },
    {
     "data": {
      "application/vnd.jupyter.widget-view+json": {
       "model_id": "c7085919043944a4833738a669bd058b",
       "version_major": 2,
       "version_minor": 0
      },
      "text/plain": [
       "Validation: |          | 0/? [00:00<?, ?it/s]"
      ]
     },
     "metadata": {},
     "output_type": "display_data"
    },
    {
     "name": "stdout",
     "output_type": "stream",
     "text": [
      "Step :33583 , GT:0.41333928659223396, MINDE_C :0.3889996111392975 , MINDE_C_(sigma=1) :0.39085155725479126    \n"
     ]
    },
    {
     "data": {
      "application/vnd.jupyter.widget-view+json": {
       "model_id": "70d86e531b004adfbda77ef1e91b7e68",
       "version_major": 2,
       "version_minor": 0
      },
      "text/plain": [
       "Validation: |          | 0/? [00:00<?, ?it/s]"
      ]
     },
     "metadata": {},
     "output_type": "display_data"
    },
    {
     "name": "stdout",
     "output_type": "stream",
     "text": [
      "Step :34364 , GT:0.41333928659223396, MINDE_C :0.39681607484817505 , MINDE_C_(sigma=1) :0.3979562520980835    \n"
     ]
    },
    {
     "data": {
      "application/vnd.jupyter.widget-view+json": {
       "model_id": "2f5e3f4319ed4ed6bd3477d377ac1065",
       "version_major": 2,
       "version_minor": 0
      },
      "text/plain": [
       "Validation: |          | 0/? [00:00<?, ?it/s]"
      ]
     },
     "metadata": {},
     "output_type": "display_data"
    },
    {
     "name": "stdout",
     "output_type": "stream",
     "text": [
      "Step :35145 , GT:0.41333928659223396, MINDE_C :0.37893810868263245 , MINDE_C_(sigma=1) :0.38000163435935974    \n"
     ]
    },
    {
     "data": {
      "application/vnd.jupyter.widget-view+json": {
       "model_id": "6f8c8dfbdc6349ff982a8f743fc119fa",
       "version_major": 2,
       "version_minor": 0
      },
      "text/plain": [
       "Validation: |          | 0/? [00:00<?, ?it/s]"
      ]
     },
     "metadata": {},
     "output_type": "display_data"
    },
    {
     "name": "stdout",
     "output_type": "stream",
     "text": [
      "Step :35926 , GT:0.41333928659223396, MINDE_C :0.4111681580543518 , MINDE_C_(sigma=1) :0.39562124013900757    \n"
     ]
    },
    {
     "data": {
      "application/vnd.jupyter.widget-view+json": {
       "model_id": "3552bb2eb55141409176e1edf59c4f9e",
       "version_major": 2,
       "version_minor": 0
      },
      "text/plain": [
       "Validation: |          | 0/? [00:00<?, ?it/s]"
      ]
     },
     "metadata": {},
     "output_type": "display_data"
    },
    {
     "name": "stdout",
     "output_type": "stream",
     "text": [
      "Step :36707 , GT:0.41333928659223396, MINDE_C :0.36357221007347107 , MINDE_C_(sigma=1) :0.37753158807754517    \n"
     ]
    },
    {
     "data": {
      "application/vnd.jupyter.widget-view+json": {
       "model_id": "95c9d3b395c74248a2bdba5f64603afe",
       "version_major": 2,
       "version_minor": 0
      },
      "text/plain": [
       "Validation: |          | 0/? [00:00<?, ?it/s]"
      ]
     },
     "metadata": {},
     "output_type": "display_data"
    },
    {
     "name": "stdout",
     "output_type": "stream",
     "text": [
      "Step :37488 , GT:0.41333928659223396, MINDE_C :0.37527817487716675 , MINDE_C_(sigma=1) :0.3839353919029236    \n"
     ]
    },
    {
     "data": {
      "application/vnd.jupyter.widget-view+json": {
       "model_id": "21bc0dd048b14472b1fe7a8be5ec009f",
       "version_major": 2,
       "version_minor": 0
      },
      "text/plain": [
       "Validation: |          | 0/? [00:00<?, ?it/s]"
      ]
     },
     "metadata": {},
     "output_type": "display_data"
    },
    {
     "name": "stdout",
     "output_type": "stream",
     "text": [
      "Step :38269 , GT:0.41333928659223396, MINDE_C :0.38386112451553345 , MINDE_C_(sigma=1) :0.38520336151123047    \n"
     ]
    },
    {
     "data": {
      "application/vnd.jupyter.widget-view+json": {
       "model_id": "fb83370caa1847f4b7ec7e252e28d795",
       "version_major": 2,
       "version_minor": 0
      },
      "text/plain": [
       "Validation: |          | 0/? [00:00<?, ?it/s]"
      ]
     },
     "metadata": {},
     "output_type": "display_data"
    },
    {
     "name": "stdout",
     "output_type": "stream",
     "text": [
      "Step :39050 , GT:0.41333928659223396, MINDE_C :0.37583407759666443 , MINDE_C_(sigma=1) :0.37292712926864624    \n"
     ]
    },
    {
     "data": {
      "application/vnd.jupyter.widget-view+json": {
       "model_id": "ae8594b9e46c4d8bbc1d665d9f484986",
       "version_major": 2,
       "version_minor": 0
      },
      "text/plain": [
       "Validation: |          | 0/? [00:00<?, ?it/s]"
      ]
     },
     "metadata": {},
     "output_type": "display_data"
    },
    {
     "name": "stdout",
     "output_type": "stream",
     "text": [
      "Step :39831 , GT:0.41333928659223396, MINDE_C :0.38307663798332214 , MINDE_C_(sigma=1) :0.38600248098373413    \n"
     ]
    },
    {
     "data": {
      "application/vnd.jupyter.widget-view+json": {
       "model_id": "f708c56ae40947adb6f30a6fbe9b01f6",
       "version_major": 2,
       "version_minor": 0
      },
      "text/plain": [
       "Validation: |          | 0/? [00:00<?, ?it/s]"
      ]
     },
     "metadata": {},
     "output_type": "display_data"
    },
    {
     "name": "stdout",
     "output_type": "stream",
     "text": [
      "Step :40612 , GT:0.41333928659223396, MINDE_C :0.3925752341747284 , MINDE_C_(sigma=1) :0.3972318768501282    \n"
     ]
    },
    {
     "name": "stderr",
     "output_type": "stream",
     "text": [
      "/home/renault/Documents/code/mi/myvenv/lib/python3.9/site-packages/pytorch_lightning/trainer/call.py:54: Detected KeyboardInterrupt, attempting graceful shutdown...\n"
     ]
    }
   ],
   "source": [
    "minde = Minde_c(dim_x=task.dim_x,\n",
    "                dim_y=task.dim_y,\n",
    "                gt=task.mutual_information,\n",
    "                debias=args.debias_train,\n",
    "                use_ema=True,\n",
    "                plot_epoch = 1,\n",
    "                batch_size=args.batch_size,\n",
    "                lr=args.lr,\n",
    "                test_samples=get_samples(test_l, args.Test_Size), )\n",
    "tb_logger = TensorBoardLogger(save_dir=\"runs/demo/\",\n",
    "                              name=\"mi_\"+task.name)\n",
    "\n",
    "pl.seed_everything(args.seed)\n",
    "pl.Trainer(\n",
    "    logger=tb_logger,\n",
    "    accelerator='gpu',\n",
    "    devices=1,\n",
    "    max_epochs=args.num_epoch,\n",
    "    default_root_dir=\"runs/demo/\",\n",
    ").fit(model=minde, train_dataloaders=train_l,val_dataloaders=test_l  )"
   ]
  },
  {
   "cell_type": "code",
   "execution_count": null,
   "metadata": {},
   "outputs": [],
   "source": []
  }
 ],
 "metadata": {
  "kernelspec": {
   "display_name": "myvenv",
   "language": "python",
   "name": "python3"
  },
  "language_info": {
   "codemirror_mode": {
    "name": "ipython",
    "version": 3
   },
   "file_extension": ".py",
   "mimetype": "text/x-python",
   "name": "python",
   "nbconvert_exporter": "python",
   "pygments_lexer": "ipython3",
   "version": "3.9.18"
  }
 },
 "nbformat": 4,
 "nbformat_minor": 2
}
